{
 "cells": [
  {
   "cell_type": "code",
   "execution_count": 66,
   "source": [
    "import sys\n",
    "sys.path.insert(0, \"../../../../Dispatch-Bifrost/utilities/python\")\n",
    "\n",
    "import dispatch\n",
    "import numpy as np\n",
    "import pickle"
   ],
   "outputs": [],
   "metadata": {}
  },
  {
   "cell_type": "code",
   "execution_count": 67,
   "source": [
    "data = \"data/orz/data\""
   ],
   "outputs": [],
   "metadata": {}
  },
  {
   "cell_type": "code",
   "execution_count": 68,
   "source": [
    "snap0 = dispatch.snapshot(0, data=data)\n",
    "snap100 = dispatch.snapshot(100, data=data)"
   ],
   "outputs": [
    {
     "output_type": "stream",
     "name": "stdout",
     "text": [
      "shape: (48, 48, 1)\n",
      "shape: (48, 48, 1)\n",
      "shape: (48, 48, 1)\n",
      "shape: (48, 48, 1)\n",
      "shape: (48, 48, 1)\n",
      "shape: (48, 48, 1)\n",
      "shape: (48, 48, 1)\n",
      "shape: (48, 48, 1)\n",
      "shape: (48, 48, 1)\n",
      "shape: (48, 48, 1)\n",
      "shape: (48, 48, 1)\n",
      "shape: (48, 48, 1)\n",
      "shape: (48, 48, 1)\n",
      "shape: (48, 48, 1)\n",
      "shape: (48, 48, 1)\n",
      "shape: (48, 48, 1)\n",
      "shape: (48, 48, 1)\n",
      "shape: (48, 48, 1)\n",
      "shape: (48, 48, 1)\n",
      "shape: (48, 48, 1)\n",
      "shape: (48, 48, 1)\n",
      "shape: (48, 48, 1)\n",
      "shape: (48, 48, 1)\n",
      "shape: (48, 48, 1)\n",
      "shape: (48, 48, 1)\n",
      "shape: (48, 48, 1)\n",
      "shape: (48, 48, 1)\n",
      "shape: (48, 48, 1)\n",
      "shape: (48, 48, 1)\n",
      "shape: (48, 48, 1)\n",
      "shape: (48, 48, 1)\n",
      "shape: (48, 48, 1)\n",
      "shape: (48, 48, 1)\n",
      "shape: (48, 48, 1)\n",
      "shape: (48, 48, 1)\n",
      "shape: (48, 48, 1)\n"
     ]
    }
   ],
   "metadata": {}
  },
  {
   "cell_type": "code",
   "execution_count": 69,
   "source": [
    "snap0keys = np.asarray(list(vars(snap0)))\n",
    "snap100keys = np.asarray(list(vars(snap100)))\n",
    "\n",
    "np.save(\"data/orz/snap0keys\", snap0keys)\n",
    "np.save(\"data/orz/snap100keys\", snap100keys)"
   ],
   "outputs": [],
   "metadata": {}
  },
  {
   "cell_type": "code",
   "execution_count": 70,
   "source": [
    "snap0data = {}\n",
    "snap100data = {}"
   ],
   "outputs": [],
   "metadata": {}
  },
  {
   "cell_type": "code",
   "execution_count": 71,
   "source": [
    "snap0data[\"keys\"] = snap0keys\n",
    "snap100data[\"keys\"] = snap100keys\n",
    "\n",
    "snap0data[\"npatches\"] = len(snap0.patches)\n",
    "snap100data[\"npatches\"] = len(snap100.patches)"
   ],
   "outputs": [],
   "metadata": {}
  },
  {
   "cell_type": "code",
   "execution_count": 58,
   "source": [
    "snap0.patches[0].var(\"d\").shape"
   ],
   "outputs": [
    {
     "output_type": "execute_result",
     "data": {
      "text/plain": [
       "(32, 32, 1)"
      ]
     },
     "metadata": {},
     "execution_count": 58
    }
   ],
   "metadata": {}
  },
  {
   "cell_type": "code",
   "execution_count": 72,
   "source": [
    "patches = [0, 3, 7, 15, 31]\n",
    "ivs = [\"d\", \"eth\", \"ux\", \"emag\"]\n",
    "for patch in patches:\n",
    "    patchId = f\"patch_{snap0.patches[patch].id}\"\n",
    "    snap0patchDict = {}\n",
    "    snap100patchDict = {}\n",
    "\n",
    "    for iv in ivs:\n",
    "        snap0patchiv = snap0.patches[patch].var(iv)\n",
    "        assert snap100.patches[patch].id == patchID\n",
    "        snap100patchiv = snap100.patches[patch].var(iv)\n",
    "\n",
    "        snap0patchDict[iv] = snap0patchiv\n",
    "        snap100patchDict[iv] = snap100patchiv\n",
    "    \n",
    "    snap0data[patchId] = snap0patchDict\n",
    "    snap100data[patchId] = snap100patchDict\n"
   ],
   "outputs": [],
   "metadata": {}
  },
  {
   "cell_type": "code",
   "execution_count": 73,
   "source": [
    "with open(\"data/snap0.obj\", \"wb\") as f:\n",
    "    pickle.dump(snap0data, f)\n",
    "\n",
    "with open(\"data/snap100.obj\", \"wb\") as f:\n",
    "    pickle.dump(snap100data, f)"
   ],
   "outputs": [],
   "metadata": {}
  },
  {
   "cell_type": "code",
   "execution_count": 74,
   "source": [
    "np.save(\"data/snap0\", snap0data, allow_pickle=True)\n",
    "np.save(\"data/snap100\", snap100data, allow_pickle=True)"
   ],
   "outputs": [],
   "metadata": {}
  },
  {
   "cell_type": "code",
   "execution_count": 76,
   "source": [
    "snap0.patches[32].id"
   ],
   "outputs": [
    {
     "output_type": "execute_result",
     "data": {
      "text/plain": [
       "33"
      ]
     },
     "metadata": {},
     "execution_count": 76
    }
   ],
   "metadata": {}
  },
  {
   "cell_type": "code",
   "execution_count": null,
   "source": [],
   "outputs": [],
   "metadata": {}
  }
 ],
 "metadata": {
  "orig_nbformat": 4,
  "language_info": {
   "name": "python"
  }
 },
 "nbformat": 4,
 "nbformat_minor": 2
}