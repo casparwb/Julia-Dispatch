{
 "cells": [
  {
   "cell_type": "code",
   "execution_count": 1,
   "source": [
    "import sys\n",
    "sys.path.insert(0, \"../../../../Dispatch-Bifrost/utilities/python\")\n",
    "\n",
    "import dispatch\n",
    "import numpy as np\n",
    "import pickle"
   ],
   "outputs": [],
   "metadata": {}
  },
  {
   "cell_type": "code",
   "execution_count": 71,
   "source": [
    "import matplotlib.pyplot as plt"
   ],
   "outputs": [],
   "metadata": {}
  },
  {
   "cell_type": "code",
   "execution_count": 2,
   "source": [
    "data = \"data/orz/data\""
   ],
   "outputs": [],
   "metadata": {}
  },
  {
   "cell_type": "code",
   "execution_count": null,
   "source": [
    "snap0 = dispatch.snapshot(0, data=data)\n",
    "snap100 = dispatch.snapshot(100, data=data)"
   ],
   "outputs": [],
   "metadata": {}
  },
  {
   "cell_type": "code",
   "execution_count": 67,
   "source": [
    "snap0data = {}\n",
    "snap100data = {}"
   ],
   "outputs": [],
   "metadata": {}
  },
  {
   "cell_type": "code",
   "execution_count": 68,
   "source": [
    "snap0keys = np.asarray(list(vars(snap0)))\n",
    "snap100keys = np.asarray(list(vars(snap100)))\n",
    "\n",
    "\n",
    "snap0data[\"keys\"] = snap0keys\n",
    "snap100data[\"keys\"] = snap100keys\n",
    "\n",
    "snap0data[\"npatches\"] = len(snap0.patches)\n",
    "snap100data[\"npatches\"] = len(snap100.patches)"
   ],
   "outputs": [],
   "metadata": {}
  },
  {
   "cell_type": "code",
   "execution_count": 69,
   "source": [
    "patches = [0, 3, 7, 15, 31]\n",
    "\n",
    "ivs = [\"d\",\"lnd\",\"logd\",\"u1\",\"u2\",\"u3\", \\\n",
    "        \"ee\",\"E\",\"T\",\"eth\", \"Eth\", \"ekin\", \"emag\", \"S\", \"b1\", \"b2\", \"b3\"]\n",
    "for patch in patches:\n",
    "    patch_0 = snap0.patches[patch]\n",
    "    patch_100 = snap100.patches[patch]\n",
    "    patchId = f\"patch_{patch_0.id}\"\n",
    "    snap0patchDict = {}\n",
    "    snap100patchDict = {}\n",
    "\n",
    "    for iv in ivs:\n",
    "        snap0patchiv = patch_0.var(iv)\n",
    "        assert patch_100.id == patch_0.id\n",
    "        snap100patchiv = patch_100.var(iv)\n",
    "\n",
    "        snap0patchDict[iv] = snap0patchiv\n",
    "        snap100patchDict[iv] = snap100patchiv\n",
    "\n",
    "    snap100patchDict[\"aux\"] = {}\n",
    "    snap100patchDict[\"aux\"][\"id\"] = patch_100.aux.id\n",
    "    snap100patchDict[\"aux\"][\"filename\"] = patch_100.aux.filename\n",
    "    snap100patchDict[\"aux\"][\"version\"] = patch_100.aux.version\n",
    "    snap100patchDict[\"aux\"][\"vars\"] = patch_100.aux.vars\n",
    "    \n",
    "        \n",
    "    \n",
    "    snap0data[patchId] = snap0patchDict\n",
    "    snap100data[patchId] = snap100patchDict\n",
    "    snap100data[\"aux\"] = {}\n",
    "    snap100data[\"aux\"][\"select\"] = snap100.aux.select\n",
    "\n"
   ],
   "outputs": [],
   "metadata": {}
  },
  {
   "cell_type": "code",
   "execution_count": 73,
   "source": [
    "with open(\"data/snap0.obj\", \"wb\") as f:\n",
    "    pickle.dump(snap0data, f)\n",
    "\n",
    "with open(\"data/snap100.obj\", \"wb\") as f:\n",
    "    pickle.dump(snap100data, f)"
   ],
   "outputs": [],
   "metadata": {}
  },
  {
   "cell_type": "code",
   "execution_count": 70,
   "source": [
    "np.save(\"data/snap0\", snap0data, allow_pickle=True)\n",
    "np.save(\"data/snap100\", snap100data, allow_pickle=True)"
   ],
   "outputs": [],
   "metadata": {}
  },
  {
   "cell_type": "code",
   "execution_count": 44,
   "source": [
    "snap100.aux.select"
   ],
   "outputs": [
    {
     "output_type": "execute_result",
     "data": {
      "text/plain": [
       "['tt', 'pg', 'rkap', 'src', 'qout']"
      ]
     },
     "metadata": {},
     "execution_count": 44
    }
   ],
   "metadata": {}
  },
  {
   "cell_type": "code",
   "execution_count": 49,
   "source": [
    "snap100.patches[0].aux.vars[\"pg\"]"
   ],
   "outputs": [
    {
     "output_type": "execute_result",
     "data": {
      "text/plain": [
       "{'type': 'r3',\n",
       " 'name': 'pg',\n",
       " 'rank': 3,\n",
       " 'shape': array([48, 48,  1], dtype=int32),\n",
       " 'v': array([[[0.17727375],\n",
       "         [0.183206  ],\n",
       "         [0.18714516],\n",
       "         ...,\n",
       "         [0.12486529],\n",
       "         [0.12628987],\n",
       "         [0.12934555]],\n",
       " \n",
       "        [[0.17422402],\n",
       "         [0.1800339 ],\n",
       "         [0.18358906],\n",
       "         ...,\n",
       "         [0.12442314],\n",
       "         [0.12707649],\n",
       "         [0.13008271]],\n",
       " \n",
       "        [[0.17193602],\n",
       "         [0.17628305],\n",
       "         [0.17944139],\n",
       "         ...,\n",
       "         [0.12522873],\n",
       "         [0.12751253],\n",
       "         [0.1306155 ]],\n",
       " \n",
       "        ...,\n",
       " \n",
       "        [[0.19403476],\n",
       "         [0.18943863],\n",
       "         [0.18574439],\n",
       "         ...,\n",
       "         [0.13610475],\n",
       "         [0.1330355 ],\n",
       "         [0.13171615]],\n",
       " \n",
       "        [[0.18648659],\n",
       "         [0.1830178 ],\n",
       "         [0.18016838],\n",
       "         ...,\n",
       "         [0.1301222 ],\n",
       "         [0.12900506],\n",
       "         [0.1304702 ]],\n",
       " \n",
       "        [[0.18524109],\n",
       "         [0.18234839],\n",
       "         [0.18031551],\n",
       "         ...,\n",
       "         [0.12705314],\n",
       "         [0.12869187],\n",
       "         [0.13112111]]], dtype=float32)}"
      ]
     },
     "metadata": {},
     "execution_count": 49
    }
   ],
   "metadata": {}
  },
  {
   "cell_type": "code",
   "execution_count": 72,
   "source": [
    "plt.imshow(snap100.patches[0].aux.vars[\"pg\"][\"v\"])"
   ],
   "outputs": [
    {
     "output_type": "execute_result",
     "data": {
      "text/plain": [
       "<matplotlib.image.AxesImage at 0x7f9b25df2d60>"
      ]
     },
     "metadata": {},
     "execution_count": 72
    },
    {
     "output_type": "display_data",
     "data": {
      "text/plain": [
       "<Figure size 432x288 with 1 Axes>"
      ],
      "image/png": "[encoded data removed]"
     },
     "metadata": {
      "needs_background": "light"
     }
    }
   ],
   "metadata": {}
  },
  {
   "cell_type": "code",
   "execution_count": null,
   "source": [],
   "outputs": [],
   "metadata": {}
  }
 ],
 "metadata": {
  "orig_nbformat": 4,
  "language_info": {
   "name": "python"
  }
 },
 "nbformat": 4,
 "nbformat_minor": 2
}